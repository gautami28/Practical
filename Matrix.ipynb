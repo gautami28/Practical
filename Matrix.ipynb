{
  "nbformat": 4,
  "nbformat_minor": 0,
  "metadata": {
    "colab": {
      "name": "Matrix.ipynb",
      "provenance": [],
      "collapsed_sections": [],
      "authorship_tag": "ABX9TyMYmIA1mjRKynJOBInaHBKt",
      "include_colab_link": true
    },
    "kernelspec": {
      "name": "python3",
      "display_name": "Python 3"
    },
    "language_info": {
      "name": "python"
    }
  },
  "cells": [
    {
      "cell_type": "markdown",
      "metadata": {
        "id": "view-in-github",
        "colab_type": "text"
      },
      "source": [
        "<a href=\"https://colab.research.google.com/github/gautami28/Practical/blob/main/Matrix.ipynb\" target=\"_parent\"><img src=\"https://colab.research.google.com/assets/colab-badge.svg\" alt=\"Open In Colab\"/></a>"
      ]
    },
    {
      "cell_type": "code",
      "metadata": {
        "colab": {
          "base_uri": "https://localhost:8080/"
        },
        "id": "p6pamLc2yKe6",
        "outputId": "b31de6ba-aee3-4722-c6ff-999d22e4d291"
      },
      "source": [
        "A = int(input(\"Enter the number of rows:\"))\n",
        "B = int(input(\"Enter the number of columns:\"))\n",
        "\n",
        "matrix1 = []\n",
        "for i in range(A):          \n",
        "  a =[]\n",
        "  for j in range(B):     \n",
        "      a.append(int(input()))\n",
        "  matrix1.append(a)\n",
        "\n",
        "for i in range(A):\n",
        "  for j in range(B):\n",
        "      print(matrix1[i][j], end = \" \")\n",
        "  print()\n",
        "\n",
        "matrix2 = []\n",
        "for i in range(A):          \n",
        "  a =[]\n",
        "  for j in range(B):     \n",
        "      a.append(int(input()))\n",
        "  matrix2.append(a)\n",
        "\n",
        "for i in range(A):\n",
        "  for j in range(B):\n",
        "      print(matrix2[i][j], end = \" \")\n",
        "  print()\n",
        "\n",
        "def add_sub(matrix1,matrix2,A,B):\n",
        "  result = [[0,0,0], [0,0,0], [0,0,0]] \n",
        "  sub_result = [[0,0,0], [0,0,0], [0,0,0]] \n",
        "  for i in range(len(matrix1)):  \n",
        "    for j in range(len(matrix1[0])):  \n",
        "       result[i][j] = matrix1[i][j] + matrix2[i][j]\n",
        "       sub_result[i][j] = matrix1[i][j] - matrix2[i][j]  \n",
        "\n",
        "  print(\"Addition\")\n",
        "  for r in result:  \n",
        "    print(r)  \n",
        "  print(\"substraction\")\n",
        "  for sr in sub_result:\n",
        "    print(sr)\n",
        "\n",
        "def multi(matrix1,matrix2,A,B):\n",
        "  mul_result=[[0,0,0],[0,0,0],[0,0,0]]\n",
        "\n",
        "  if (len(matrix1)==len(matrix2)):\n",
        "    for i in range(len(matrix1)):\n",
        "      for j in range(len(matrix1[0])):\n",
        "        mul_result[i][j] = matrix1[i][j] * matrix2[i][j]\n",
        "    print(\"multiplication\")\n",
        "    for m in mul_result:\n",
        "      print(m)\n",
        "\n",
        "add_sub(matrix1,matrix2,A,B)\n",
        "multi(matrix1,matrix2,A,B)"
      ],
      "execution_count": 2,
      "outputs": [
        {
          "output_type": "stream",
          "name": "stdout",
          "text": [
            "Enter the number of rows:3\n",
            "Enter the number of columns:3\n",
            "89\n",
            "88\n",
            "56\n",
            "32\n",
            "10\n",
            "15\n",
            "75\n",
            "45\n",
            "32\n",
            "89 88 56 \n",
            "32 10 15 \n",
            "75 45 32 \n",
            "84\n",
            "36\n",
            "65\n",
            "52\n",
            "14\n",
            "28\n",
            "85\n",
            "45\n",
            "53\n",
            "84 36 65 \n",
            "52 14 28 \n",
            "85 45 53 \n",
            "Addition\n",
            "[173, 124, 121]\n",
            "[84, 24, 43]\n",
            "[160, 90, 85]\n",
            "substraction\n",
            "[5, 52, -9]\n",
            "[-20, -4, -13]\n",
            "[-10, 0, -21]\n",
            "multiplication\n",
            "[7476, 3168, 3640]\n",
            "[1664, 140, 420]\n",
            "[6375, 2025, 1696]\n"
          ]
        }
      ]
    }
  ]
}