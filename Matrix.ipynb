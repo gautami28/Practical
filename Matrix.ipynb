{
  "nbformat": 4,
  "nbformat_minor": 0,
  "metadata": {
    "colab": {
      "name": "Matrix.ipynb",
      "provenance": [],
      "collapsed_sections": [],
      "authorship_tag": "ABX9TyMH87w6aHv4Po39OZ7Eh1bg",
      "include_colab_link": true
    },
    "kernelspec": {
      "name": "python3",
      "display_name": "Python 3"
    },
    "language_info": {
      "name": "python"
    }
  },
  "cells": [
    {
      "cell_type": "markdown",
      "metadata": {
        "id": "view-in-github",
        "colab_type": "text"
      },
      "source": [
        "<a href=\"https://colab.research.google.com/github/gautami28/Practical/blob/main/Matrix.ipynb\" target=\"_parent\"><img src=\"https://colab.research.google.com/assets/colab-badge.svg\" alt=\"Open In Colab\"/></a>"
      ]
    },
    {
      "cell_type": "code",
      "metadata": {
        "colab": {
          "base_uri": "https://localhost:8080/"
        },
        "id": "p6pamLc2yKe6",
        "outputId": "d8cef663-1132-4d40-e9e4-02ef40cdb425"
      },
      "source": [
        "A = int(input(\"Enter the number of rows:\"))\n",
        "B = int(input(\"Enter the number of columns:\"))\n",
        "\n",
        "matrix1 = []\n",
        "for i in range(A):          \n",
        "  a =[]\n",
        "  for j in range(B):     \n",
        "      a.append(int(input()))\n",
        "  matrix1.append(a)\n",
        "\n",
        "for i in range(A):\n",
        "  for j in range(B):\n",
        "      print(matrix1[i][j], end = \" \")\n",
        "  print()\n",
        "\n",
        "matrix2 = []\n",
        "for i in range(A):          \n",
        "  a =[]\n",
        "  for j in range(B):     \n",
        "      a.append(int(input()))\n",
        "  matrix2.append(a)\n",
        "\n",
        "for i in range(A):\n",
        "  for j in range(B):\n",
        "      print(matrix2[i][j], end = \" \")\n",
        "  print()\n",
        "\n",
        "def add_sub(matrix1,matrix2,A,B):\n",
        "  result = [[0,0,0], [0,0,0], [0,0,0]] \n",
        "  sub_result = [[0,0,0], [0,0,0], [0,0,0]] \n",
        "  for i in range(len(matrix1)):  \n",
        "    for j in range(len(matrix1[0])):  \n",
        "       result[i][j] = matrix1[i][j] + matrix2[i][j]\n",
        "       sub_result[i][j] = matrix1[i][j] - matrix2[i][j]  \n",
        "\n",
        "  print(\"Addition\")\n",
        "  for r in result:  \n",
        "    print(r)  \n",
        "  print(\"substraction\")\n",
        "  for sr in sub_result:\n",
        "    print(sr)\n",
        "\n",
        "def multi(matrix1,matrix2,A,B):\n",
        "  mul_result=[[0,0,0],[0,0,0],[0,0,0]]\n",
        "\n",
        "  if (len(matrix1)==len(matrix2)):\n",
        "    for i in range(len(matrix1)):\n",
        "      for j in range(len(matrix1[0])):\n",
        "        mul_result[i][j] = matrix1[i][j] * matrix2[i][j]\n",
        "    print(\"multiplication\")\n",
        "    for m in mul_result:\n",
        "      print(m)\n",
        "\n",
        "add_sub(matrix1,matrix2,A,B)\n",
        "multi(matrix1,matrix2,A,B)\n",
        "\n",
        "def transpose(matrix1):\n",
        "  result = [[0,0,0], [0,0,0], [0,0,0]]\n",
        "  for i in range(len(matrix1)):  \n",
        "    for j in range(len(matrix1[0])): \n",
        "      result[i][j]=matrix1[j][i]\n",
        "  print(\"transpose\")\n",
        "  for r in result:\n",
        "    print(r)\n",
        "\n",
        "transpose(matrix1)\n",
        "transpose(matrix2)"
      ],
      "execution_count": 7,
      "outputs": [
        {
          "output_type": "stream",
          "name": "stdout",
          "text": [
            "Enter the number of rows:3\n",
            "Enter the number of columns:3\n",
            "4\n",
            "5\n",
            "8\n",
            "7\n",
            "9\n",
            "3\n",
            "1\n",
            "6\n",
            "0\n",
            "4 5 8 \n",
            "7 9 3 \n",
            "1 6 0 \n",
            "2\n",
            "5\n",
            "8\n",
            "3\n",
            "6\n",
            "9\n",
            "4\n",
            "7\n",
            "1\n",
            "2 5 8 \n",
            "3 6 9 \n",
            "4 7 1 \n",
            "Addition\n",
            "[6, 10, 16]\n",
            "[10, 15, 12]\n",
            "[5, 13, 1]\n",
            "substraction\n",
            "[2, 0, 0]\n",
            "[4, 3, -6]\n",
            "[-3, -1, -1]\n",
            "multiplication\n",
            "[8, 25, 64]\n",
            "[21, 54, 27]\n",
            "[4, 42, 0]\n",
            "transpose\n",
            "[4, 7, 1]\n",
            "[5, 9, 6]\n",
            "[8, 3, 0]\n",
            "transpose\n",
            "[2, 3, 4]\n",
            "[5, 6, 7]\n",
            "[8, 9, 1]\n"
          ]
        }
      ]
    }
  ]
}